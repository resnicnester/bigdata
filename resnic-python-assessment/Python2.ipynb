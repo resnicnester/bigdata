{
 "cells": [
  {
   "cell_type": "markdown",
   "id": "165f8f03-8607-4be3-8e94-ceb288e410bd",
   "metadata": {},
   "source": [
    "It’s the time to disco"
   ]
  },
  {
   "cell_type": "code",
   "execution_count": 1,
   "id": "80147720-ce86-405e-82a3-944a5c6080b1",
   "metadata": {},
   "outputs": [],
   "source": [
    "t = (\"disco\", 12, 4.5)"
   ]
  },
  {
   "cell_type": "code",
   "execution_count": 2,
   "id": "9649ccd7-9a7f-45a3-94e1-956447a26d95",
   "metadata": {},
   "outputs": [
    {
     "data": {
      "text/plain": [
       "'s'"
      ]
     },
     "execution_count": 2,
     "metadata": {},
     "output_type": "execute_result"
    }
   ],
   "source": [
    "t[0][2]"
   ]
  },
  {
   "cell_type": "markdown",
   "id": "e7f34905-f65a-4f15-8519-2fb8888cde3a",
   "metadata": {},
   "source": [
    "String Palindrome"
   ]
  },
  {
   "cell_type": "code",
   "execution_count": 9,
   "id": "07ecf3ad-f713-4588-a48b-7da93f865e53",
   "metadata": {},
   "outputs": [],
   "source": [
    "s = \"racecar\""
   ]
  },
  {
   "cell_type": "code",
   "execution_count": 10,
   "id": "eda61d4d-d7d8-4ac6-910b-861a18e576b6",
   "metadata": {},
   "outputs": [],
   "source": [
    "rev = s[::-1]"
   ]
  },
  {
   "cell_type": "code",
   "execution_count": 11,
   "id": "c677d573-89aa-426c-a76c-86d1264702e1",
   "metadata": {},
   "outputs": [
    {
     "name": "stdout",
     "output_type": "stream",
     "text": [
      "1\n"
     ]
    }
   ],
   "source": [
    "if(rev==s):\n",
    "    print(1)\n",
    "else:\n",
    "    print(0)"
   ]
  },
  {
   "cell_type": "markdown",
   "id": "891669c1-6f1e-40e0-9d4e-46c8be9f9d75",
   "metadata": {},
   "source": [
    "Reverse Words"
   ]
  },
  {
   "cell_type": "code",
   "execution_count": 13,
   "id": "8b4ab03c-945a-4913-b6fb-36da468771d4",
   "metadata": {},
   "outputs": [],
   "source": [
    "sentence = \"There is a book on the table\""
   ]
  },
  {
   "cell_type": "code",
   "execution_count": 15,
   "id": "253965f4-9f15-4354-ba81-e21385c28d6d",
   "metadata": {},
   "outputs": [],
   "source": [
    "splitted_sentence = sentence.split(' ')"
   ]
  },
  {
   "cell_type": "code",
   "execution_count": 16,
   "id": "c32b088b-eabf-4f01-9877-d4cb1c098d14",
   "metadata": {},
   "outputs": [
    {
     "name": "stdout",
     "output_type": "stream",
     "text": [
      "['There', 'is', 'a', 'book', 'on', 'the', 'table']\n"
     ]
    }
   ],
   "source": [
    "print(splitted_sentence)"
   ]
  },
  {
   "cell_type": "code",
   "execution_count": 19,
   "id": "ee7971e9-4887-4889-aef2-ce03d20f0be5",
   "metadata": {},
   "outputs": [],
   "source": [
    "reversed_words = ' '.join(reversed(splitted_sentence))"
   ]
  },
  {
   "cell_type": "code",
   "execution_count": 20,
   "id": "5209e524-87cf-411e-a216-39c2ce557e75",
   "metadata": {},
   "outputs": [
    {
     "name": "stdout",
     "output_type": "stream",
     "text": [
      "table the on book a is There\n"
     ]
    }
   ],
   "source": [
    "print(reversed_words)"
   ]
  },
  {
   "cell_type": "markdown",
   "id": "03a9241c-3326-4a1f-ad2a-43e8b6a5240a",
   "metadata": {},
   "source": [
    "String Formatting"
   ]
  },
  {
   "cell_type": "code",
   "execution_count": 21,
   "id": "2a8945b2-5511-497d-89ae-cf2cc958f6de",
   "metadata": {},
   "outputs": [],
   "source": [
    "input_string = \"caloRie ConsuMed\""
   ]
  },
  {
   "cell_type": "code",
   "execution_count": 27,
   "id": "e52a78a6-8d99-4559-9083-ecad4caeac03",
   "metadata": {},
   "outputs": [
    {
     "data": {
      "text/plain": [
       "'calorie_consumed'"
      ]
     },
     "execution_count": 27,
     "metadata": {},
     "output_type": "execute_result"
    }
   ],
   "source": [
    "input_string.replace(' ', '_').lower()"
   ]
  },
  {
   "cell_type": "markdown",
   "id": "dcff20b8-e119-47a4-b6ac-63052bdde06e",
   "metadata": {},
   "source": [
    "Multiple Choice Questions"
   ]
  },
  {
   "cell_type": "markdown",
   "id": "b8e77f82-7d44-494f-9924-cb4d583cebf1",
   "metadata": {},
   "source": [
    "How will you extract ‘love’ from the string S = “I love Python”? (More than one\n",
    "option may be correct.)."
   ]
  },
  {
   "cell_type": "code",
   "execution_count": 29,
   "id": "0ff86f39-cb74-4418-b428-c4cfd566e0d3",
   "metadata": {},
   "outputs": [],
   "source": [
    "s = \"I love Python\""
   ]
  },
  {
   "cell_type": "code",
   "execution_count": 30,
   "id": "8bda8f86-23bd-43fc-b16d-d2b962ed4954",
   "metadata": {},
   "outputs": [
    {
     "data": {
      "text/plain": [
       "'love'"
      ]
     },
     "execution_count": 30,
     "metadata": {},
     "output_type": "execute_result"
    }
   ],
   "source": [
    "s[2:6]"
   ]
  },
  {
   "cell_type": "markdown",
   "id": "0b7edd15-718a-4a57-ba31-e9e8b5f48fc1",
   "metadata": {},
   "source": [
    "What will the output of 3 * 3 ** 3 be?"
   ]
  },
  {
   "cell_type": "code",
   "execution_count": 31,
   "id": "22adf1d4-493f-4ff2-89ed-21a3777f24d0",
   "metadata": {},
   "outputs": [
    {
     "data": {
      "text/plain": [
       "81"
      ]
     },
     "execution_count": 31,
     "metadata": {},
     "output_type": "execute_result"
    }
   ],
   "source": [
    "3*3**3"
   ]
  },
  {
   "cell_type": "markdown",
   "id": "08b5b7f7-78f6-494d-9482-748531157906",
   "metadata": {},
   "source": [
    "What will the output be of ((500//7) % 5) ** 3?"
   ]
  },
  {
   "cell_type": "code",
   "execution_count": 32,
   "id": "28060fb3-d0bb-491a-9e2a-342d1e8b2b67",
   "metadata": {},
   "outputs": [
    {
     "data": {
      "text/plain": [
       "1"
      ]
     },
     "execution_count": 32,
     "metadata": {},
     "output_type": "execute_result"
    }
   ],
   "source": [
    "((500//7) % 5) ** 3"
   ]
  },
  {
   "cell_type": "markdown",
   "id": "ab761002-daf0-4483-bbf9-ddfe82ff5213",
   "metadata": {},
   "source": [
    "If you have a tuple T = (3, 5, 7, 11), what will the output of T.append(9) be?"
   ]
  },
  {
   "cell_type": "code",
   "execution_count": 33,
   "id": "166445d2-6fe7-4411-892b-3a05c641f3b4",
   "metadata": {},
   "outputs": [],
   "source": [
    "T=(3, 5, 7, 11)"
   ]
  },
  {
   "cell_type": "code",
   "execution_count": 34,
   "id": "01ea148c-1412-4766-a495-cedccdbdf3e5",
   "metadata": {},
   "outputs": [
    {
     "ename": "AttributeError",
     "evalue": "'tuple' object has no attribute 'append'",
     "output_type": "error",
     "traceback": [
      "\u001b[0;31m---------------------------------------------------------------------------\u001b[0m",
      "\u001b[0;31mAttributeError\u001b[0m                            Traceback (most recent call last)",
      "\u001b[0;32m/var/folders/pr/10cr21ls7vj20syn6b1f5hdw0000gn/T/ipykernel_1329/4024134642.py\u001b[0m in \u001b[0;36m<module>\u001b[0;34m\u001b[0m\n\u001b[0;32m----> 1\u001b[0;31m \u001b[0mT\u001b[0m\u001b[0;34m.\u001b[0m\u001b[0mappend\u001b[0m\u001b[0;34m(\u001b[0m\u001b[0;36m9\u001b[0m\u001b[0;34m)\u001b[0m\u001b[0;34m\u001b[0m\u001b[0;34m\u001b[0m\u001b[0m\n\u001b[0m",
      "\u001b[0;31mAttributeError\u001b[0m: 'tuple' object has no attribute 'append'"
     ]
    }
   ],
   "source": [
    "T.append(9)"
   ]
  },
  {
   "cell_type": "markdown",
   "id": "ce2704ea-4695-44c6-a63f-ab2072c9cf72",
   "metadata": {},
   "source": [
    "What will the output of the following code be?"
   ]
  },
  {
   "cell_type": "code",
   "execution_count": 36,
   "id": "6cfc8e9a-b43d-4b04-b900-eb7165884b94",
   "metadata": {},
   "outputs": [],
   "source": [
    "l = [32, 34, 12, 27, 33]"
   ]
  },
  {
   "cell_type": "code",
   "execution_count": 37,
   "id": "35f4996c-4b28-4fab-b093-5be9fd13acbe",
   "metadata": {},
   "outputs": [],
   "source": [
    "l.append((14, 19))"
   ]
  },
  {
   "cell_type": "code",
   "execution_count": 38,
   "id": "e6105f2b-2a84-4bba-b0df-7e9cdf32f220",
   "metadata": {},
   "outputs": [
    {
     "name": "stdout",
     "output_type": "stream",
     "text": [
      "6\n"
     ]
    }
   ],
   "source": [
    "print(len(l))"
   ]
  },
  {
   "cell_type": "code",
   "execution_count": 39,
   "id": "8355edb3-fbb4-45f1-ae02-185571b3fa39",
   "metadata": {},
   "outputs": [
    {
     "data": {
      "text/plain": [
       "[32, 34, 12, 27, 33, (14, 19)]"
      ]
     },
     "execution_count": 39,
     "metadata": {},
     "output_type": "execute_result"
    }
   ],
   "source": [
    "l"
   ]
  },
  {
   "cell_type": "markdown",
   "id": "bd0f0f06-0ef0-47f8-b07b-1f455c511ec0",
   "metadata": {},
   "source": [
    "7. Which of the following statements is incorrect regarding sets in Python?\n",
    "a. Sets do not contain duplicate elements\n",
    "b. Sets are represented using curly braces {}\n",
    "c. Sets are immutable\n",
    "d. All of the above\n",
    "\n",
    "Ans: a, b"
   ]
  },
  {
   "cell_type": "markdown",
   "id": "a7e7c8ed-a42b-436a-9455-e79255bc35e4",
   "metadata": {},
   "source": [
    "8. What will the output be of the following code?"
   ]
  },
  {
   "cell_type": "code",
   "execution_count": 41,
   "id": "db37757c-95e1-4539-9091-d453713886ec",
   "metadata": {},
   "outputs": [],
   "source": [
    "D = {1:['Raj',22], 2:['Simran',21], 3:['Rahul', 40]}"
   ]
  },
  {
   "cell_type": "code",
   "execution_count": 42,
   "id": "5bce5816-046e-4c81-82e3-ddefdb251899",
   "metadata": {},
   "outputs": [
    {
     "name": "stdout",
     "output_type": "stream",
     "text": [
      "1\n",
      "2\n",
      "3\n"
     ]
    }
   ],
   "source": [
    "for val in D:\n",
    "    print(val)"
   ]
  },
  {
   "cell_type": "markdown",
   "id": "8935f05f-8396-47f7-8fc7-d9ee7de3cd51",
   "metadata": {},
   "source": [
    "9. What will the ‘comprehension equivalent’ be for the following snippet of code?\n",
    "\n",
    "for sentence in paragraph:\n",
    "     for word in sentence.split():\n",
    "         single_word_list.append(word)\n",
    "         \n",
    "a. word for sentence in paragraph for word in sentence.split()\n",
    "b. [word for sentence in paragraph for word in sentence.split()]\n",
    "c. word for word in sentence.split() for sentence in paragraph\n",
    "d. [word for word in sentence.split() for sentence in paragraph]\n",
    "\n",
    "Ans: d. [word for word in sentence.split() for sentence in paragraph]"
   ]
  },
  {
   "cell_type": "markdown",
   "id": "ecbf0e0a-845a-4c47-8b13-081d8e3f33dd",
   "metadata": {},
   "source": [
    "10.What will be the output of this code?"
   ]
  },
  {
   "cell_type": "code",
   "execution_count": 44,
   "id": "ec6a392b-2285-4913-98e5-940e31a93669",
   "metadata": {},
   "outputs": [
    {
     "name": "stdout",
     "output_type": "stream",
     "text": [
      "[10, 9, 8, 7, 6, 5, 4, 3, 2]\n"
     ]
    }
   ],
   "source": [
    "print(list(range(10,1,-1)))"
   ]
  }
 ],
 "metadata": {
  "kernelspec": {
   "display_name": "Python 3 (ipykernel)",
   "language": "python",
   "name": "python3"
  },
  "language_info": {
   "codemirror_mode": {
    "name": "ipython",
    "version": 3
   },
   "file_extension": ".py",
   "mimetype": "text/x-python",
   "name": "python",
   "nbconvert_exporter": "python",
   "pygments_lexer": "ipython3",
   "version": "3.9.6"
  }
 },
 "nbformat": 4,
 "nbformat_minor": 5
}
