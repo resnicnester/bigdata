{
 "cells": [
  {
   "cell_type": "markdown",
   "id": "08144506-92b9-46cc-955e-1e7c20d703f9",
   "metadata": {},
   "source": [
    "List_remove_append"
   ]
  },
  {
   "cell_type": "code",
   "execution_count": 1,
   "id": "60e6a29a-bc27-47d5-8bc2-8ee38a713422",
   "metadata": {},
   "outputs": [],
   "source": [
    "input_list = ['SAS', 'R', 'PYTHON', 'SPSS']"
   ]
  },
  {
   "cell_type": "code",
   "execution_count": 2,
   "id": "b6132735-2760-4877-a98d-58b21fe56d56",
   "metadata": {},
   "outputs": [
    {
     "data": {
      "text/plain": [
       "['SAS', 'R', 'PYTHON', 'SPSS']"
      ]
     },
     "execution_count": 2,
     "metadata": {},
     "output_type": "execute_result"
    }
   ],
   "source": [
    "input_list"
   ]
  },
  {
   "cell_type": "code",
   "execution_count": 3,
   "id": "ffa3522b-9ea1-4aad-b61f-371ff1a0a99a",
   "metadata": {},
   "outputs": [],
   "source": [
    "input_list[3] = 'SPARK'"
   ]
  },
  {
   "cell_type": "code",
   "execution_count": 4,
   "id": "f58b818a-96da-4dc3-b7df-27e263e2351d",
   "metadata": {},
   "outputs": [
    {
     "data": {
      "text/plain": [
       "['SAS', 'R', 'PYTHON', 'SPARK']"
      ]
     },
     "execution_count": 4,
     "metadata": {},
     "output_type": "execute_result"
    }
   ],
   "source": [
    "input_list"
   ]
  },
  {
   "cell_type": "markdown",
   "id": "5cf3e899-ccbb-4e74-bd56-0259d2d0579b",
   "metadata": {},
   "source": [
    "String to List Conversion"
   ]
  },
  {
   "cell_type": "code",
   "execution_count": 5,
   "id": "fa629b4b-4029-494a-8617-e185e0aeb184",
   "metadata": {},
   "outputs": [],
   "source": [
    "input_str = 'I love Data Science & Python'"
   ]
  },
  {
   "cell_type": "code",
   "execution_count": 6,
   "id": "5e7cda9c-da2d-49c3-94d8-49f1eac59a42",
   "metadata": {},
   "outputs": [
    {
     "data": {
      "text/plain": [
       "'I love Data Science & Python'"
      ]
     },
     "execution_count": 6,
     "metadata": {},
     "output_type": "execute_result"
    }
   ],
   "source": [
    "input_str"
   ]
  },
  {
   "cell_type": "code",
   "execution_count": 7,
   "id": "83637c81-5960-43f8-bf86-e82af93ab389",
   "metadata": {},
   "outputs": [
    {
     "data": {
      "text/plain": [
       "['I love Data Science ', ' Python']"
      ]
     },
     "execution_count": 7,
     "metadata": {},
     "output_type": "execute_result"
    }
   ],
   "source": [
    "input_str.split('&')"
   ]
  },
  {
   "cell_type": "markdown",
   "id": "db4055c9-bacc-4054-ad1e-53faccc65cdf",
   "metadata": {},
   "source": [
    "List to String Conversion"
   ]
  },
  {
   "cell_type": "code",
   "execution_count": 18,
   "id": "680a1359-5e9a-4c7b-981f-7ba03983eb26",
   "metadata": {},
   "outputs": [],
   "source": [
    "input_list_1 = ['Pythons syntax is easy to learn', 'Pythons syntax is very clear']"
   ]
  },
  {
   "cell_type": "code",
   "execution_count": 20,
   "id": "08371102-2404-42a5-8ae1-d55aa76fc9d4",
   "metadata": {},
   "outputs": [
    {
     "name": "stdout",
     "output_type": "stream",
     "text": [
      "Pythons syntax is easy to learn & Pythons syntax is very clear\n"
     ]
    }
   ],
   "source": [
    "print(' & '.join(input_list_1))"
   ]
  },
  {
   "cell_type": "markdown",
   "id": "1258d10c-31af-44d4-89fa-9045554c09b4",
   "metadata": {},
   "source": [
    "Nested List"
   ]
  },
  {
   "cell_type": "code",
   "execution_count": 22,
   "id": "461d1f80-6762-4323-aafd-831a57e14918",
   "metadata": {},
   "outputs": [],
   "source": [
    "input_list_2 = [['SAS','R'],['Tableau','SQL'],['Python','Java']]"
   ]
  },
  {
   "cell_type": "code",
   "execution_count": 23,
   "id": "02f37878-84ca-4a3b-a6a7-bebe15f656a9",
   "metadata": {},
   "outputs": [
    {
     "data": {
      "text/plain": [
       "'Python'"
      ]
     },
     "execution_count": 23,
     "metadata": {},
     "output_type": "execute_result"
    }
   ],
   "source": [
    "input_list_2[2][0]"
   ]
  }
 ],
 "metadata": {
  "kernelspec": {
   "display_name": "Python 3 (ipykernel)",
   "language": "python",
   "name": "python3"
  },
  "language_info": {
   "codemirror_mode": {
    "name": "ipython",
    "version": 3
   },
   "file_extension": ".py",
   "mimetype": "text/x-python",
   "name": "python",
   "nbconvert_exporter": "python",
   "pygments_lexer": "ipython3",
   "version": "3.9.6"
  }
 },
 "nbformat": 4,
 "nbformat_minor": 5
}
